{
 "cells": [
  {
   "cell_type": "markdown",
   "metadata": {},
   "source": [
    "## [作業重點]\n",
    "確保你了解隨機森林模型中每個超參數的意義，並觀察調整超參數對結果的影響"
   ]
  },
  {
   "cell_type": "markdown",
   "metadata": {},
   "source": [
    "## 作業\n",
    "\n",
    "1. 試著調整 RandomForestClassifier(...) 中的參數，並觀察是否會改變結果？\n",
    "2. 改用其他資料集 (boston, wine)，並與回歸模型與決策樹的結果進行比較"
   ]
  },
  {
   "cell_type": "code",
   "execution_count": 1,
   "metadata": {},
   "outputs": [],
   "source": [
    "from sklearn import datasets, metrics\n",
    "from sklearn.ensemble import RandomForestClassifier\n",
    "from sklearn.model_selection import train_test_split\n",
    "from sklearn import datasets, metrics,linear_model\n",
    "\n",
    "# 如果是分類問題，請使用 DecisionTreeClassifier，若為回歸問題，請使用 DecisionTreeRegressor\n",
    "from sklearn.tree import DecisionTreeClassifier, DecisionTreeRegressor"
   ]
  },
  {
   "cell_type": "code",
   "execution_count": 2,
   "metadata": {},
   "outputs": [
    {
     "name": "stdout",
     "output_type": "stream",
     "text": [
      "Accuracy_1:  0.9736842105263158\n",
      "Accuracy_2:  0.9736842105263158\n",
      "Accuracy_3:  0.9736842105263158\n",
      "['sepal length (cm)', 'sepal width (cm)', 'petal length (cm)', 'petal width (cm)']\n",
      "Feature importance_1:  [0.16830577 0.02758596 0.39951282 0.40459545]\n",
      "Feature importance_2:  [0.11782464 0.07567049 0.27304832 0.53345655]\n",
      "Feature importance_3:  [0.10093272 0.0390026  0.4350947  0.42496999]\n"
     ]
    }
   ],
   "source": [
    "# 讀取鳶尾花資料集\n",
    "iris = datasets.load_iris()\n",
    "\n",
    "# 切分訓練集/測試集\n",
    "x_train, x_test, y_train, y_test = train_test_split(iris.data, iris.target, test_size=0.25, random_state=4)\n",
    "\n",
    "# 建立模型1 (使用 20 顆樹，每棵樹的最大深度為 4)\n",
    "clf_1 = RandomForestClassifier(n_estimators=20, max_depth=4)\n",
    "# 建立模型2 (使用 10 顆樹，每棵樹的最大深度為 4)\n",
    "clf_2 = RandomForestClassifier(n_estimators=10, max_depth=4)\n",
    "# 建立模型3 (使用 20 顆樹，每棵樹的最大深度為 8)\n",
    "clf_3 = RandomForestClassifier(n_estimators=20, max_depth=8)\n",
    "\n",
    "# 訓練模型\n",
    "clf_1.fit(x_train, y_train)\n",
    "clf_2.fit(x_train, y_train)\n",
    "clf_3.fit(x_train, y_train)\n",
    "\n",
    "# 預測測試集\n",
    "y_pred_1 = clf_1.predict(x_test)\n",
    "y_pred_2 = clf_2.predict(x_test)\n",
    "y_pred_3 = clf_3.predict(x_test)\n",
    "\n",
    "acc_1 = metrics.accuracy_score(y_test, y_pred_1)\n",
    "acc_2 = metrics.accuracy_score(y_test, y_pred_2)\n",
    "acc_3 = metrics.accuracy_score(y_test, y_pred_3)\n",
    "print(\"Accuracy_1: \", acc_1)\n",
    "print(\"Accuracy_2: \", acc_2)\n",
    "print(\"Accuracy_3: \", acc_3)\n",
    "\n",
    "print(iris.feature_names)\n",
    "print(\"Feature importance_1: \", clf_1.feature_importances_)\n",
    "print(\"Feature importance_2: \", clf_2.feature_importances_)\n",
    "print(\"Feature importance_3: \", clf_3.feature_importances_)"
   ]
  },
  {
   "cell_type": "code",
   "execution_count": 5,
   "metadata": {},
   "outputs": [
    {
     "name": "stdout",
     "output_type": "stream",
     "text": [
      "Acuuracy_logreg:  0.8771929824561403\n",
      "Acuuracy_clf:  0.8771929824561403\n",
      "Accuracy_rf:  0.8947368421052632\n"
     ]
    },
    {
     "name": "stderr",
     "output_type": "stream",
     "text": [
      "C:\\Users\\User\\Anaconda3\\lib\\site-packages\\sklearn\\linear_model\\logistic.py:433: FutureWarning: Default solver will be changed to 'lbfgs' in 0.22. Specify a solver to silence this warning.\n",
      "  FutureWarning)\n"
     ]
    }
   ],
   "source": [
    "# 讀取breast_cancer資料集\n",
    "breast_cancer = datasets.load_breast_cancer()\n",
    "\n",
    "# 切分訓練集/測試集\n",
    "x_train, x_test, y_train, y_test = train_test_split(breast_cancer.data, breast_cancer.target, test_size=0.1, random_state=4)\n",
    "\n",
    "# 建立模型\n",
    "logreg = linear_model.LogisticRegression()\n",
    "clf_4 = DecisionTreeClassifier()\n",
    "clf_5 = RandomForestClassifier(n_estimators=20, max_depth=4)\n",
    "\n",
    "# 訓練模型\n",
    "logreg.fit(x_train, y_train)\n",
    "clf_4.fit(x_train, y_train)\n",
    "clf_5.fit(x_train, y_train)\n",
    "\n",
    "# 預測測試集\n",
    "y_pred_logreg = logreg.predict(x_test)\n",
    "y_pred_clf = clf_4.predict(x_test)\n",
    "y_pred_rf = clf_5.predict(x_test)\n",
    "\n",
    "acc_logreg = metrics.accuracy_score(y_test, y_pred_logreg)\n",
    "print(\"Acuuracy_logreg: \", acc_logreg)\n",
    "acc_clf = metrics.accuracy_score(y_test, y_pred_clf)\n",
    "print(\"Acuuracy_clf: \", acc_clf)\n",
    "acc_rf = metrics.accuracy_score(y_test, y_pred_rf)\n",
    "print(\"Accuracy_rf: \", acc_rf)"
   ]
  },
  {
   "cell_type": "code",
   "execution_count": null,
   "metadata": {},
   "outputs": [],
   "source": []
  }
 ],
 "metadata": {
  "kernelspec": {
   "display_name": "Python 3",
   "language": "python",
   "name": "python3"
  },
  "language_info": {
   "codemirror_mode": {
    "name": "ipython",
    "version": 3
   },
   "file_extension": ".py",
   "mimetype": "text/x-python",
   "name": "python",
   "nbconvert_exporter": "python",
   "pygments_lexer": "ipython3",
   "version": "3.7.1"
  }
 },
 "nbformat": 4,
 "nbformat_minor": 2
}
